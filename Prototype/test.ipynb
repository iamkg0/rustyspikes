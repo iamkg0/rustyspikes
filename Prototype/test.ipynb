{
 "cells": [
  {
   "cell_type": "code",
   "execution_count": 19,
   "metadata": {},
   "outputs": [
    {
     "name": "stdout",
     "output_type": "stream",
     "text": [
      "The autoreload extension is already loaded. To reload it, use:\n",
      "  %reload_ext autoreload\n"
     ]
    }
   ],
   "source": [
    "%load_ext autoreload\n",
    "%autoreload 2\n",
    "from model import *\n",
    "from neurons import *\n",
    "from synaptics import *\n",
    "from utils import *\n",
    "from protocols import *\n",
    "from shallow_models import *\n",
    "from vis_functions import *\n",
    "from pyvis.network import Network\n",
    "res = .1\n",
    "plt.style.use(['dark_background'])\n"
   ]
  },
  {
   "cell_type": "code",
   "execution_count": 23,
   "metadata": {},
   "outputs": [
    {
     "name": "stdout",
     "output_type": "stream",
     "text": [
      "0\n",
      "1\n",
      "2\n",
      "3\n",
      "4\n",
      "5\n"
     ]
    },
    {
     "data": {
      "text/plain": [
       "{'Neurons': {0: <neurons.Spikes_at_will at 0x151283cecd0>,\n",
       "  1: <neurons.Spikes_at_will at 0x151283e9410>,\n",
       "  2: <neurons.Spikes_at_will at 0x151283eab50>,\n",
       "  3: <neurons.Spikes_at_will at 0x151283e9e90>,\n",
       "  4: <neurons.Spikes_at_will at 0x151283ea1d0>,\n",
       "  5: <neurons.Izhikevich at 0x151283e9a10>},\n",
       " 'Synapses': {(0, 5): <synaptics.Synapse at 0x15127d32350>,\n",
       "  (1, 5): <synaptics.Synapse at 0x15127aa8890>,\n",
       "  (2, 5): <synaptics.Synapse at 0x151284cff90>,\n",
       "  (3, 5): <synaptics.Synapse at 0x151284cf750>,\n",
       "  (4, 5): <synaptics.Synapse at 0x151284cd2d0>}}"
      ]
     },
     "execution_count": 23,
     "metadata": {},
     "output_type": "execute_result"
    }
   ],
   "source": [
    "snn = net_v0()\n",
    "snn.show_config()"
   ]
  },
  {
   "cell_type": "code",
   "execution_count": 24,
   "metadata": {},
   "outputs": [
    {
     "ename": "KeyError",
     "evalue": "(0, 1, 2, 3, 4)",
     "output_type": "error",
     "traceback": [
      "\u001b[1;31m---------------------------------------------------------------------------\u001b[0m",
      "\u001b[1;31mKeyError\u001b[0m                                  Traceback (most recent call last)",
      "\u001b[1;32mc:\\Users\\iamkg0\\Desktop\\projects\\rustyspikes\\Prototype\\test.ipynb Cell 3\u001b[0m line \u001b[0;36m4\n\u001b[0;32m      <a href='vscode-notebook-cell:/c%3A/Users/iamkg0/Desktop/projects/rustyspikes/Prototype/test.ipynb#X10sZmlsZQ%3D%3D?line=1'>2</a>\u001b[0m gatherer\u001b[39m.\u001b[39mgather_stats()\n\u001b[0;32m      <a href='vscode-notebook-cell:/c%3A/Users/iamkg0/Desktop/projects/rustyspikes/Prototype/test.ipynb#X10sZmlsZQ%3D%3D?line=2'>3</a>\u001b[0m gatherer\u001b[39m.\u001b[39mgather_stats()\n\u001b[1;32m----> <a href='vscode-notebook-cell:/c%3A/Users/iamkg0/Desktop/projects/rustyspikes/Prototype/test.ipynb#X10sZmlsZQ%3D%3D?line=3'>4</a>\u001b[0m gatherer\u001b[39m.\u001b[39;49mget_stats()\n",
      "File \u001b[1;32mc:\\Users\\iamkg0\\Desktop\\projects\\rustyspikes\\Prototype\\vis_functions.py:55\u001b[0m, in \u001b[0;36mGatherer.get_stats\u001b[1;34m(self, pre_ids, post_ids)\u001b[0m\n\u001b[0;32m     53\u001b[0m \u001b[39mif\u001b[39;00m \u001b[39mnot\u001b[39;00m post_ids:\n\u001b[0;32m     54\u001b[0m     post_ids \u001b[39m=\u001b[39m \u001b[39mself\u001b[39m\u001b[39m.\u001b[39mpost_ids\n\u001b[1;32m---> 55\u001b[0m pre_ids \u001b[39m=\u001b[39m \u001b[39mself\u001b[39;49m\u001b[39m.\u001b[39;49mneurons[\u001b[39m*\u001b[39;49mpre_ids]\n\u001b[0;32m     56\u001b[0m pre_vs \u001b[39m=\u001b[39m np\u001b[39m.\u001b[39marray(\u001b[39mself\u001b[39m\u001b[39m.\u001b[39mpre_vs)[pre_ids]\n\u001b[0;32m     57\u001b[0m pre_impulses \u001b[39m=\u001b[39m np\u001b[39m.\u001b[39marray(\u001b[39mself\u001b[39m\u001b[39m.\u001b[39mpre_impulses)[pre_ids]\n",
      "\u001b[1;31mKeyError\u001b[0m: (0, 1, 2, 3, 4)"
     ]
    }
   ],
   "source": [
    "gatherer = Gatherer(snn, list(range(5)), [5])\n",
    "gatherer.gather_stats()\n",
    "gatherer.gather_stats()\n",
    "gatherer.get_stats()"
   ]
  },
  {
   "cell_type": "code",
   "execution_count": null,
   "metadata": {},
   "outputs": [],
   "source": [
    "snn.reload_graph()\n",
    "for n1,n2,attr in snn.graph.edges(data=True):\n",
    "    print (n1,n2,attr)\n",
    "pos = nx.spring_layout(snn.graph)\n",
    "nx.draw(snn.graph, node_size=40)\n",
    "labels = nx.get_edge_attributes(snn.graph, 'weight')\n"
   ]
  },
  {
   "cell_type": "code",
   "execution_count": null,
   "metadata": {},
   "outputs": [],
   "source": [
    "G = snn.graph\n",
    "pos = nx.spring_layout(G)\n",
    "nx.draw(G, pos)\n",
    "nx.draw_networkx_edge_labels(G, pos)\n",
    "plt.show()"
   ]
  },
  {
   "cell_type": "code",
   "execution_count": null,
   "metadata": {},
   "outputs": [],
   "source": []
  }
 ],
 "metadata": {
  "kernelspec": {
   "display_name": "Python 3",
   "language": "python",
   "name": "python3"
  },
  "language_info": {
   "codemirror_mode": {
    "name": "ipython",
    "version": 3
   },
   "file_extension": ".py",
   "mimetype": "text/x-python",
   "name": "python",
   "nbconvert_exporter": "python",
   "pygments_lexer": "ipython3",
   "version": "3.11.3"
  }
 },
 "nbformat": 4,
 "nbformat_minor": 2
}
