{
 "cells": [
  {
   "cell_type": "code",
   "execution_count": 1,
   "metadata": {},
   "outputs": [],
   "source": [
    "from model import *\n",
    "from neurons import *\n",
    "from synaptics import *\n",
    "from protocols import *\n",
    "from shallow_models import *\n",
    "from vis_functions import *\n",
    "res = .1\n",
    "plt.style.use(['dark_background'])"
   ]
  },
  {
   "cell_type": "code",
   "execution_count": null,
   "metadata": {},
   "outputs": [],
   "source": [
    "def model0(num_input, rt=100, scale=10):\n",
    "    snn = SNNModel()\n",
    "    neu = []\n",
    "    for i in range(num_input):\n",
    "        neu.append(Spikes_at_will(id=i, refresh_time=rt))\n",
    "        snn.add_neuron(neu[i])\n",
    "    out = Izhikevich()\n",
    "    snn.add_neuron(out)\n",
    "    for i in range(num_input):\n",
    "        syn = Synapse(neu[i], out, scale=scale, w=np.random.uniform(0,1))\n",
    "        snn.add_synapse(syn)\n",
    "    snn.reload_graph()\n",
    "    return snn"
   ]
  },
  {
   "cell_type": "code",
   "execution_count": null,
   "metadata": {},
   "outputs": [],
   "source": [
    "def inh_model(num_input, rt=100, scale=10):\n",
    "    snn = SNNModel()\n",
    "    layer_exc = []\n",
    "    layer_inh = []\n",
    "    out = []\n",
    "    for i in range(num_input):\n",
    "        layer_exc.append(Spikes_at_will(id=i, refresh_time=rt))\n",
    "        snn.add_neuron(layer_exc[i])\n",
    "    for i in range(num_input, num_input*2):\n",
    "        layer_inh.append(Spikes_at_will(id=i, refresh_time=rt))\n",
    "        snn.add_neuron(layer_inh[i])\n",
    "    for i in range(num_input*2, num_input*2+2):\n",
    "        out.append(Izhikevich(id=i))\n",
    "        snn.add_neuron(out[i])\n",
    "    "
   ]
  }
 ],
 "metadata": {
  "kernelspec": {
   "display_name": "Python 3",
   "language": "python",
   "name": "python3"
  },
  "language_info": {
   "codemirror_mode": {
    "name": "ipython",
    "version": 3
   },
   "file_extension": ".py",
   "mimetype": "text/x-python",
   "name": "python",
   "nbconvert_exporter": "python",
   "pygments_lexer": "ipython3",
   "version": "3.11.3"
  }
 },
 "nbformat": 4,
 "nbformat_minor": 2
}
