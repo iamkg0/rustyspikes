{
 "cells": [
  {
   "cell_type": "code",
   "execution_count": null,
   "metadata": {},
   "outputs": [],
   "source": [
    "%load_ext autoreload\n",
    "%autoreload 2\n",
    "from model import *\n",
    "from neurons import *\n",
    "from synaptics import *\n",
    "from utils import *\n",
    "from protocols import *\n",
    "from shallow_models import *\n",
    "from vis_functions import *\n",
    "import pandas as pd\n",
    "res = .1\n",
    "plt.style.use(['dark_background'])"
   ]
  },
  {
   "cell_type": "code",
   "execution_count": null,
   "metadata": {},
   "outputs": [],
   "source": [
    "cfg = {\n",
    "    'lr': (.05, ),\n",
    "    'learning_time': 100000,\n",
    "    'test_time': 10000,\n",
    "    'num_inp_neu': 5,\n",
    "    'scale': (1,2,3,4,5,6,7,8),\n",
    "    'aw': (1,2,3,4,5,6,7,8),\n",
    "    'l_rule': ('t_stdp', 't_stdp_forget', 'pair_stdp')\n",
    "    }"
   ]
  },
  {
   "cell_type": "code",
   "execution_count": null,
   "metadata": {},
   "outputs": [],
   "source": [
    "def pipe(cfg):\n",
    "    counter = 0\n",
    "    out = [[] for i in cfg]\n",
    "    for i in range(3):\n",
    "        out.append([])\n",
    "    weights = []\n",
    "    num_input = cfg[\"num_inp_neu\"]\n",
    "    for lr in cfg['lr']:\n",
    "        for scale in cfg['scale']:\n",
    "            for aw in cfg['aw']:\n",
    "                for l_rule in cfg['l_rule']:\n",
    "                    awaiting = list(range(0, aw*num_input, aw))\n",
    "                    print(f'Attempt {counter} with lr={lr}, scale={scale}, awaiting_time={aw}, l_rule={l_rule}:')\n",
    "                    snn = bfnaics_24_model(num_input=num_input, rt=100, scale=scale)\n",
    "                    snn, gatherer, familiar, new = bfnaics24(snn, awaiting, lr=lr, l_rule=l_rule,\n",
    "                                                    learning_time=cfg['learning_time'],\n",
    "                                                    test_time=cfg['test_time'], draw_stats=False)\n",
    "                    out[0].append(lr)\n",
    "                    out[1].append(cfg['learning_time'])\n",
    "                    out[2].append(cfg['test_time'])\n",
    "                    out[3].append(num_input)\n",
    "                    out[4].append(scale)\n",
    "                    out[5].append(aw)\n",
    "                    out[6].append(l_rule)\n",
    "                    out[7].append(familiar)\n",
    "                    out[8].append(new)\n",
    "                    out[9].append(familiar-new)\n",
    "                    counter += 1\n",
    "                    cur_model_weights = []\n",
    "                    for w in snn.syn_by_edge:\n",
    "                        cur_model_weights.append(snn.syn_by_edge[w].get_weight())\n",
    "                    weights.append(cur_model_weights)\n",
    "    print(out)\n",
    "    out = pd.DataFrame(out).transpose()\n",
    "    out.columns = ['lr', 'l_time', 'test_time', 'num_input', 'scale', 'awaiting_time', 'l_rule', 'resp_familiar', 'resp_new', 'diff']\n",
    "    out.to_csv(f'bfnaics24_{num_input}_neus.csv')\n",
    "    np.save(f'bfnaics24_{num_input}_neus', np.array(weights))\n",
    "    \n",
    "    return out, np.array(weights)\n"
   ]
  },
  {
   "cell_type": "code",
   "execution_count": null,
   "metadata": {},
   "outputs": [],
   "source": [
    "data, weights = pipe(cfg)\n",
    "neus_nums = (3, 5, 7, 10)\n",
    "for i in neus_nums:\n",
    "    cfg['num_inp_neu'] = i\n",
    "    data, weights = pipe(cfg)"
   ]
  },
  {
   "cell_type": "code",
   "execution_count": null,
   "metadata": {},
   "outputs": [],
   "source": []
  }
 ],
 "metadata": {
  "kernelspec": {
   "display_name": "Python 3",
   "language": "python",
   "name": "python3"
  },
  "language_info": {
   "codemirror_mode": {
    "name": "ipython",
    "version": 3
   },
   "file_extension": ".py",
   "mimetype": "text/x-python",
   "name": "python",
   "nbconvert_exporter": "python",
   "pygments_lexer": "ipython3",
   "version": "3.11.3"
  }
 },
 "nbformat": 4,
 "nbformat_minor": 2
}
