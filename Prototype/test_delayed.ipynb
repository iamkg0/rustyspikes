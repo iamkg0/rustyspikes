{
 "cells": [
  {
   "cell_type": "code",
   "execution_count": null,
   "metadata": {},
   "outputs": [],
   "source": [
    "%load_ext autoreload\n",
    "%autoreload 2\n",
    "from model import *\n",
    "from neurons import *\n",
    "from synaptics import *\n",
    "from utils import *\n",
    "from protocols import *\n",
    "from shallow_models import *\n",
    "from vis_functions import *\n",
    "from pyvis.network import Network\n",
    "res = .1\n",
    "plt.style.use(['dark_background'])\n"
   ]
  },
  {
   "cell_type": "code",
   "execution_count": null,
   "metadata": {},
   "outputs": [],
   "source": [
    "ds = dr_single()\n",
    "snn, delay, dd = test_d_single(ds, time=100)"
   ]
  },
  {
   "cell_type": "code",
   "execution_count": null,
   "metadata": {},
   "outputs": [],
   "source": [
    "ds = dr_single()\n",
    "snn, delay, dd = test_d_single(ds, time=500000)\n",
    "#plt.figure(figsize=(19,10))\n",
    "print(delay)\n",
    "#plt.figure(figsize=(5,5))\n",
    "#plt.plot(delay)\n",
    "#plt.show()\n",
    "#print(delay[:,-1])\n",
    "\n",
    "print(dd)\n",
    "#plt.plot(dd)\n",
    "#plt.show()\n",
    "#print(dd[:,-1])"
   ]
  },
  {
   "cell_type": "code",
   "execution_count": null,
   "metadata": {},
   "outputs": [],
   "source": [
    "#ds = dr_single\n",
    "snn, delay, dd = test_d_single(snn, time=50)\n",
    "#plt.figure(figsize=(19,10))\n",
    "#plt.plot(delay)\n",
    "#plt.show()\n",
    "print(delay)\n",
    "\n",
    "#plt.plot(dd)\n",
    "#plt.show()\n",
    "#print(dd[:,-1])"
   ]
  },
  {
   "cell_type": "code",
   "execution_count": null,
   "metadata": {},
   "outputs": [],
   "source": []
  },
  {
   "cell_type": "code",
   "execution_count": null,
   "metadata": {},
   "outputs": [],
   "source": []
  }
 ],
 "metadata": {
  "kernelspec": {
   "display_name": "Python 3",
   "language": "python",
   "name": "python3"
  },
  "language_info": {
   "codemirror_mode": {
    "name": "ipython",
    "version": 3
   },
   "file_extension": ".py",
   "mimetype": "text/x-python",
   "name": "python",
   "nbconvert_exporter": "python",
   "pygments_lexer": "ipython3",
   "version": "3.11.3"
  }
 },
 "nbformat": 4,
 "nbformat_minor": 2
}
