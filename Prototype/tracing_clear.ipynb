{
 "cells": [
  {
   "cell_type": "code",
   "execution_count": 1,
   "metadata": {},
   "outputs": [],
   "source": [
    "from rustyspikes import *"
   ]
  },
  {
   "cell_type": "code",
   "execution_count": 2,
   "metadata": {},
   "outputs": [
    {
     "name": "stdout",
     "output_type": "stream",
     "text": [
      "Loaded the following model:\n",
      "{'Neurons': {0: <neurons.Spikes_at_will object at 0x000002356446AF10>, 1: <neurons.Spikes_at_will object at 0x0000023562483FD0>, 2: <neurons.Spikes_at_will object at 0x000002356446B410>, 3: <neurons.Spikes_at_will object at 0x000002356446B510>, 4: <neurons.Spikes_at_will object at 0x000002356446B610>, 5: <neurons.Izhikevich object at 0x000002356446B710>, 6: <neurons.Izhikevich object at 0x000002356446B850>, 7: <neurons.Izhikevich object at 0x000002356446B950>, 8: <neurons.Izhikevich object at 0x000002356446BA50>, 9: <neurons.Izhikevich object at 0x000002356446BB50>, 10: <neurons.Izhikevich object at 0x000002356446BC50>, 11: <neurons.Izhikevich object at 0x000002356446BD50>, 12: <neurons.Izhikevich object at 0x000002356446BE50>, 13: <neurons.Izhikevich object at 0x000002356446BF50>, 14: <neurons.Izhikevich object at 0x0000023564480050>}, 'Synapses': {(0, 5): <synaptics.Synapse object at 0x0000023564480250>, (1, 6): <synaptics.Synapse object at 0x0000023564480910>, (2, 7): <synaptics.Synapse object at 0x0000023564480D50>, (3, 8): <synaptics.Synapse object at 0x0000023564481210>, (4, 9): <synaptics.Synapse object at 0x0000023564481750>, (10, 11): <synaptics.Synapse object at 0x0000023564481C10>, (11, 10): <synaptics.Synapse object at 0x00000235644820D0>, (11, 12): <synaptics.Synapse object at 0x0000023564482590>, (12, 11): <synaptics.Synapse object at 0x0000023564482A50>, (12, 13): <synaptics.Synapse object at 0x0000023564482F10>, (13, 12): <synaptics.Synapse object at 0x00000235644833D0>, (13, 14): <synaptics.Synapse object at 0x0000023564483890>, (14, 13): <synaptics.Synapse object at 0x0000023564483D50>, (5, 6): <synaptics.Synapse object at 0x000002356448C250>, (6, 5): <synaptics.Synapse object at 0x000002356448C710>, (6, 7): <synaptics.Synapse object at 0x000002356448CBD0>, (7, 6): <synaptics.Synapse object at 0x000002356448D090>, (7, 8): <synaptics.Synapse object at 0x000002356448D550>, (8, 7): <synaptics.Synapse object at 0x000002356448DA10>, (8, 9): <synaptics.Synapse object at 0x000002356448DED0>, (9, 8): <synaptics.Synapse object at 0x000002356448E390>, (5, 10): <synaptics.Synapse object at 0x000002356448E850>, (10, 5): <synaptics.Synapse object at 0x000002356448ED10>, (6, 11): <synaptics.Synapse object at 0x000002356448F1D0>, (11, 6): <synaptics.Synapse object at 0x000002356448F690>, (7, 12): <synaptics.Synapse object at 0x000002356448FB50>, (12, 7): <synaptics.Synapse object at 0x0000023564490050>, (8, 13): <synaptics.Synapse object at 0x0000023564490510>, (13, 8): <synaptics.Synapse object at 0x00000235644909D0>, (9, 14): <synaptics.Synapse object at 0x0000023564490E90>, (14, 9): <synaptics.Synapse object at 0x0000023564491350>}}\n"
     ]
    }
   ],
   "source": [
    "model = load_model('models/apparent_2.pkl')"
   ]
  },
  {
   "cell_type": "code",
   "execution_count": 3,
   "metadata": {},
   "outputs": [
    {
     "ename": "AttributeError",
     "evalue": "'Spikes_at_will' object has no attribute 'silenced'",
     "output_type": "error",
     "traceback": [
      "\u001b[1;31m---------------------------------------------------------------------------\u001b[0m",
      "\u001b[1;31mAttributeError\u001b[0m                            Traceback (most recent call last)",
      "\u001b[1;32mc:\\Users\\iamkg0\\Desktop\\projects\\rustyspikes\\Prototype\\tracing_clear.ipynb Cell 3\u001b[0m line \u001b[0;36m3\n\u001b[0;32m      <a href='vscode-notebook-cell:/c%3A/Users/iamkg0/Desktop/projects/rustyspikes/Prototype/tracing_clear.ipynb#W2sZmlsZQ%3D%3D?line=0'>1</a>\u001b[0m time \u001b[39m=\u001b[39m \u001b[39m500\u001b[39m\n\u001b[1;32m----> <a href='vscode-notebook-cell:/c%3A/Users/iamkg0/Desktop/projects/rustyspikes/Prototype/tracing_clear.ipynb#W2sZmlsZQ%3D%3D?line=2'>3</a>\u001b[0m \u001b[39mprint\u001b[39m(model[\u001b[39m1\u001b[39;49m]\u001b[39m.\u001b[39;49msilenced)\n\u001b[0;32m      <a href='vscode-notebook-cell:/c%3A/Users/iamkg0/Desktop/projects/rustyspikes/Prototype/tracing_clear.ipynb#W2sZmlsZQ%3D%3D?line=3'>4</a>\u001b[0m model\u001b[39m.\u001b[39msyn_by_edge[\u001b[39m1\u001b[39m,\u001b[39m6\u001b[39m]\u001b[39m.\u001b[39mw \u001b[39m=\u001b[39m \u001b[39m1\u001b[39m\n\u001b[0;32m      <a href='vscode-notebook-cell:/c%3A/Users/iamkg0/Desktop/projects/rustyspikes/Prototype/tracing_clear.ipynb#W2sZmlsZQ%3D%3D?line=4'>5</a>\u001b[0m model\u001b[39m.\u001b[39msyn_by_edge[\u001b[39m2\u001b[39m,\u001b[39m7\u001b[39m]\u001b[39m.\u001b[39mw \u001b[39m=\u001b[39m \u001b[39m1\u001b[39m\n",
      "\u001b[1;31mAttributeError\u001b[0m: 'Spikes_at_will' object has no attribute 'silenced'"
     ]
    }
   ],
   "source": [
    "time = 500\n",
    "\n",
    "print(model[1].silenced)\n",
    "model.syn_by_edge[1,6].w = 1\n",
    "model.syn_by_edge[2,7].w = 1\n",
    "model.syn_by_edge[3,8].w = 1\n",
    "#model.set_scale(3.9)\n",
    "model.set_rule_to_all(None)\n",
    "reverse_signal(model)\n",
    "gatherer = Gatherer(model)\n",
    "for i in range(int(time / res)):\n",
    "    model.tick()\n",
    "    gatherer.gather_spikes_only()\n",
    "data = gatherer.convert_spikes_for_raster()\n",
    "\n",
    "gatherer.draw_raster(time=time)"
   ]
  },
  {
   "cell_type": "code",
   "execution_count": null,
   "metadata": {},
   "outputs": [],
   "source": [
    "time = 500\n",
    "\n",
    "\n",
    "model.syn_by_edge[1,6].w = 0\n",
    "model.syn_by_edge[2,7].w = 0\n",
    "model.syn_by_edge[3,8].w = 0\n",
    "#model.set_scale(3.9)\n",
    "model.set_rule_to_all(None)\n",
    "reverse_signal(model)\n",
    "gatherer = Gatherer(model)\n",
    "for i in range(int(time / res)):\n",
    "    model.tick()\n",
    "    gatherer.gather_spikes_only()\n",
    "data = gatherer.convert_spikes_for_raster()\n",
    "\n",
    "gatherer.draw_raster(time=time)"
   ]
  },
  {
   "cell_type": "code",
   "execution_count": null,
   "metadata": {},
   "outputs": [],
   "source": [
    "clone = clone_model(model)\n",
    "clone.remove_neurons([11,12,13,14,10])\n",
    "\n",
    "def switch_order(model, ids):\n",
    "    a = model[ids[0]].awaiting_time\n",
    "    b = model[ids[1]].awaiting_time\n",
    "    model[ids[0]].awaiting_time = b\n",
    "    model[ids[1]].awaiting_time = a"
   ]
  },
  {
   "cell_type": "code",
   "execution_count": null,
   "metadata": {},
   "outputs": [],
   "source": [
    "# model.show_config()\n",
    "clone.show_config()"
   ]
  },
  {
   "cell_type": "code",
   "execution_count": null,
   "metadata": {},
   "outputs": [],
   "source": [
    "time = 500\n",
    "\n",
    "\n",
    "clone.syn_by_edge[1,6].w = 0\n",
    "clone.syn_by_edge[2,7].w = 0\n",
    "clone.syn_by_edge[3,8].w = 0\n",
    "#model.set_scale(3.9)\n",
    "clone.set_rule_to_all(None)\n",
    "switch_order(clone, [0, 4])\n",
    "gatherer = Gatherer(clone)\n",
    "for i in range(int(time / res)):\n",
    "    clone.tick()\n",
    "    gatherer.gather_spikes_only()\n",
    "data = gatherer.convert_spikes_for_raster()\n",
    "\n",
    "gatherer.draw_raster(time=time)"
   ]
  },
  {
   "cell_type": "code",
   "execution_count": null,
   "metadata": {},
   "outputs": [],
   "source": [
    "time = 500\n",
    "\n",
    "# clone.remove_neurons([1,2,3])\n",
    "# clone.syn_by_edge[2,7].w = 0\n",
    "# clone.syn_by_edge[3,8].w = 0\n",
    "#model.set_scale(3.9)\n",
    "clone[1].turn_off()\n",
    "clone[2].turn_off()\n",
    "clone[3].turn_off()\n",
    "clone.set_rule_to_all(None)\n",
    "switch_order(clone, [0, 4])\n",
    "gatherer = Gatherer(clone)\n",
    "for i in range(int(time / res)):\n",
    "    clone.tick()\n",
    "    gatherer.gather_spikes_only()\n",
    "data = gatherer.convert_spikes_for_raster()\n",
    "\n",
    "gatherer.draw_raster(time=time)"
   ]
  },
  {
   "cell_type": "code",
   "execution_count": null,
   "metadata": {},
   "outputs": [],
   "source": []
  }
 ],
 "metadata": {
  "kernelspec": {
   "display_name": "Python 3",
   "language": "python",
   "name": "python3"
  },
  "language_info": {
   "codemirror_mode": {
    "name": "ipython",
    "version": 3
   },
   "file_extension": ".py",
   "mimetype": "text/x-python",
   "name": "python",
   "nbconvert_exporter": "python",
   "pygments_lexer": "ipython3",
   "version": "3.11.3"
  }
 },
 "nbformat": 4,
 "nbformat_minor": 2
}
