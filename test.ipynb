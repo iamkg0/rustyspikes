{
 "cells": [
  {
   "cell_type": "code",
   "execution_count": 1,
   "metadata": {},
   "outputs": [],
   "source": [
    "import numpy as np\n",
    "import matplotlib.pyplot as plt\n",
    "from neurons import *\n",
    "from utils import *"
   ]
  },
  {
   "cell_type": "code",
   "execution_count": 13,
   "metadata": {},
   "outputs": [
    {
     "name": "stdout",
     "output_type": "stream",
     "text": [
      "(1000,)\n"
     ]
    }
   ],
   "source": [
    "res = .1\n",
    "neu = Izhikevich(I=30, preset='RS', synaptic_limit=None, resolution=res)\n",
    "time = 100\n",
    "t = np.arange(int(time / res)) * res\n",
    "print(t.shape)\n",
    "vs = []\n",
    "sps = []\n",
    "for i in range(int(time / res)):\n",
    "    sps.append(neu.dynamics())\n",
    "    vs.append(neu.v)"
   ]
  },
  {
   "cell_type": "code",
   "execution_count": 14,
   "metadata": {},
   "outputs": [
    {
     "data": {
      "text/plain": [
       "[<matplotlib.lines.Line2D at 0x198eef89950>]"
      ]
     },
     "execution_count": 14,
     "metadata": {},
     "output_type": "execute_result"
    },
    {
     "data": {
      "image/png": "[encoded data removed]",
      "text/plain": [
       "<Figure size 640x480 with 1 Axes>"
      ]
     },
     "metadata": {},
     "output_type": "display_data"
    }
   ],
   "source": [
    "plt.plot(t, vs)"
   ]
  },
  {
   "cell_type": "code",
   "execution_count": 8,
   "metadata": {},
   "outputs": [
    {
     "data": {
      "text/plain": [
       "[<matplotlib.lines.Line2D at 0x198eda47050>]"
      ]
     },
     "execution_count": 8,
     "metadata": {},
     "output_type": "execute_result"
    },
    {
     "data": {
      "image/png": "[encoded data removed]",
      "text/plain": [
       "<Figure size 640x480 with 1 Axes>"
      ]
     },
     "metadata": {},
     "output_type": "display_data"
    }
   ],
   "source": [
    "plt.plot(t,sps)"
   ]
  },
  {
   "cell_type": "code",
   "execution_count": 5,
   "metadata": {},
   "outputs": [],
   "source": [
    "neu = Probability_neuron(I=.01)\n",
    "time = 1000\n",
    "t = np.arange(int(time / res)) * res\n",
    "vs = []\n",
    "sps = []\n",
    "for i in range(int(time / res)):\n",
    "    sps.append(neu.dynamics())"
   ]
  },
  {
   "cell_type": "code",
   "execution_count": 6,
   "metadata": {},
   "outputs": [
    {
     "data": {
      "text/plain": [
       "[0]"
      ]
     },
     "execution_count": 6,
     "metadata": {},
     "output_type": "execute_result"
    }
   ],
   "source": [
    "a = random.choices([1,0], [.2, .8])\n",
    "a"
   ]
  },
  {
   "cell_type": "code",
   "execution_count": null,
   "metadata": {},
   "outputs": [],
   "source": [
    "neu.apply_current(-100)\n",
    "neu.dynamics()\n",
    "sps1 = []\n",
    "vs1 = []\n",
    "for i in range(int(time / res)):\n",
    "    sps1.append(neu.dynamics())\n",
    "    vs1.append(neu.v)\n",
    "    if i == int(0 / res):\n",
    "        neu.apply_current(.1506)\n",
    "plt.plot(t, vs1)"
   ]
  },
  {
   "cell_type": "code",
   "execution_count": null,
   "metadata": {},
   "outputs": [],
   "source": [
    "neu.apply_current(0)\n",
    "neu.dynamics()\n",
    "sps1 = []\n",
    "vs1 = []\n",
    "for i in range(int(time / res)):\n",
    "    sps1.append(neu.dynamics())\n",
    "    vs1.append(neu.v)\n",
    "plt.plot(t, vs1)"
   ]
  },
  {
   "cell_type": "code",
   "execution_count": null,
   "metadata": {},
   "outputs": [],
   "source": [
    "def dev_test(neuron, time, timings, currents, default_current=0):\n",
    "    t = np.arange(int(time / neuron.resolution)) * neuron.resolution\n",
    "    vs = []\n",
    "    spikes = []\n",
    "    Is = []\n",
    "    var_idx = 0\n",
    "    for step in range(len(t)):\n",
    "        #neuron.apply_current(default_current)\n",
    "        if len(timings) > var_idx:\n",
    "            if step == int(timings[var_idx] / neuron.resolution):\n",
    "                neuron.apply_current(currents[var_idx])\n",
    "                var_idx += 1\n",
    "        spikes.append(neuron.dynamics())\n",
    "        Is.append(neuron.I)\n",
    "        vs.append(neuron.v)\n",
    "        \n",
    "    return vs, Is, spikes,t "
   ]
  },
  {
   "cell_type": "code",
   "execution_count": null,
   "metadata": {},
   "outputs": [],
   "source": [
    "time = 200\n",
    "timings = [50, 51, 52]\n",
    "currents = [0, 100, 0]\n",
    "neu1 = Izhikevich(I=0, preset='RZ', resolution=res)\n",
    "vs, Is, spikes, t = dev_test(neu1, time, timings, currents, default_current=0)"
   ]
  },
  {
   "cell_type": "code",
   "execution_count": null,
   "metadata": {},
   "outputs": [],
   "source": [
    "def show_stats(vs, Is, spikes, t, fwidth=15, fheight=9):\n",
    "    figure, axis = plt.subplots(3, 1)\n",
    "    figure.set_figwidth(fwidth)\n",
    "    figure.set_figheight(fheight)\n",
    "    voltage = axis[0]\n",
    "    cur = axis[1]\n",
    "    spks = axis[2]\n",
    "    voltage.plot(t, vs)\n",
    "    voltage.set_title('Voltage')\n",
    "    cur.plot(t, Is)\n",
    "    cur.set_title('Input current')\n",
    "    spks.plot(t, spikes)\n",
    "    spks.set_title('Spikes')"
   ]
  },
  {
   "cell_type": "code",
   "execution_count": null,
   "metadata": {},
   "outputs": [],
   "source": [
    "show_stats(vs, Is, spikes, t)"
   ]
  },
  {
   "cell_type": "code",
   "execution_count": null,
   "metadata": {},
   "outputs": [],
   "source": [
    "def dev_two(pre, post, time, ap_scale=1):\n",
    "    t = np.arange(int(time / pre.resolution)) * pre.resolution\n",
    "    vs_pre = []\n",
    "    spikes_pre = []\n",
    "    Is_pre = []\n",
    "    vs_post = []\n",
    "    spikes_post = []\n",
    "    Is_post = []\n",
    "    var_idx = 0\n",
    "    for step in range(len(t)):\n",
    "        #neuron.apply_current(default_current)\n",
    "        ap = pre.dynamics()\n",
    "        spikes_pre.append(ap)\n",
    "        Is_pre.append(pre.I)\n",
    "        vs_pre.append(pre.v)\n",
    "        post.apply_current(ap * ap_scale)\n",
    "        spikes_post.append(post.dynamics())\n",
    "        Is_post.append(post.I)\n",
    "        vs_post.append(post.v)\n",
    "        \n",
    "    return vs_pre, Is_pre, spikes_pre, vs_post, Is_post, spikes_post, t"
   ]
  },
  {
   "cell_type": "code",
   "execution_count": null,
   "metadata": {},
   "outputs": [],
   "source": [
    "res = .1\n",
    "time = 500\n",
    "neu_pre = Izhikevich(I=4, preset='CH', resolution=res)\n",
    "neu_post = Izhikevich(I=0, preset='RZ', resolution=res)\n",
    "neu_post.u = 0\n",
    "vs_pre, Is_pre, spikes_pre, vs_post, Is_post, spikes_post, t = dev_two(neu_pre, neu_post, time=time, ap_scale=-100)"
   ]
  },
  {
   "cell_type": "code",
   "execution_count": null,
   "metadata": {},
   "outputs": [],
   "source": [
    "show_stats(vs_pre, Is_pre, spikes_pre, t)"
   ]
  },
  {
   "cell_type": "code",
   "execution_count": null,
   "metadata": {},
   "outputs": [],
   "source": [
    "show_stats(vs_post, Is_post, spikes_post, t)"
   ]
  },
  {
   "cell_type": "code",
   "execution_count": null,
   "metadata": {},
   "outputs": [],
   "source": [
    "def simulate_single(neu, time, ap_scale=1):\n",
    "    t = np.arange(int(time / neu.resolution)) * neu.resolution\n",
    "    vs = []\n",
    "    spikes = []\n",
    "    Is = []\n",
    "    for step in range(len(t)):\n",
    "        ap = neu.dynamics()\n",
    "        spikes.append(ap * ap_scale)\n",
    "        Is.append(neu.I)\n",
    "        vs.append(neu.v)\n",
    "        \n",
    "    return vs, Is, spikes, t"
   ]
  },
  {
   "cell_type": "code",
   "execution_count": null,
   "metadata": {},
   "outputs": [],
   "source": [
    "def simulate_several(pre, post, time, ap_scale=[1]):\n",
    "    t = np.arange(int(time / post.resolution)) * post.resolution\n",
    "    vs_pre = []\n",
    "    spikes_pre = []\n",
    "    Is_pre = []\n",
    "    vs_post = []\n",
    "    spikes_post = []\n",
    "    Is_post = []\n",
    "    var_idx = 0\n",
    "    for neus in range(len(pre)):\n",
    "        vs = []\n",
    "        spikes = []\n",
    "        Is = []\n",
    "        for step in range(len(t)):\n",
    "            #neuron.apply_current(default_current)\n",
    "            ap = pre[neus].dynamics()\n",
    "            spikes.append(ap)\n",
    "            Is.append(pre[neus].I)\n",
    "            vs.append(pre[neus].v)\n",
    "        spikes_pre.append(spikes)\n",
    "        Is_pre.append(Is)\n",
    "        vs_pre.append(vs)\n",
    "\n",
    "    aps = np.array(spikes_pre)\n",
    "    aps = aps.sum(0)\n",
    "    print(aps.shape)\n",
    "    for step in range(len(t)):\n",
    "        post.apply_current(aps[step] * ap_scale)\n",
    "        spikes_post.append(post.dynamics())\n",
    "        Is_post.append(post.I)\n",
    "        vs_post.append(post.v)\n",
    "        \n",
    "    return vs_pre, Is_pre, spikes_pre, vs_post, Is_post, spikes_post, t"
   ]
  },
  {
   "cell_type": "code",
   "execution_count": null,
   "metadata": {},
   "outputs": [],
   "source": [
    "def show_stats_many(vs, Is, spikes, t, fwidth=15, fheight=9):\n",
    "    figure, axis = plt.subplots(3, 1)\n",
    "    figure.set_figwidth(fwidth)\n",
    "    figure.set_figheight(fheight)\n",
    "    for i in range(len(vs)):\n",
    "        voltage = axis[0]\n",
    "        cur = axis[1]\n",
    "        spks = axis[2]\n",
    "        voltage.plot(t, vs[i])\n",
    "        cur.plot(t, Is[i])\n",
    "        spks.plot(t, spikes[i])\n",
    "    voltage.set_title('Voltage')\n",
    "    cur.set_title('Input current')\n",
    "    spks.set_title('Spikes')"
   ]
  },
  {
   "cell_type": "code",
   "execution_count": null,
   "metadata": {},
   "outputs": [],
   "source": [
    "res = .1\n",
    "time = 1000\n",
    "neu0 = Izhikevich(I=4, preset='RS', resolution=res)\n",
    "neu1 = Izhikevich(I=5, preset='RS', resolution=res)\n",
    "neu2 = Izhikevich(I=6, preset='RS', resolution=res)\n",
    "neu3 = Izhikevich(I=7, preset='CH', resolution=res)\n",
    "neu_post = Izhikevich(I=0, preset='RZ', resolution=res)\n",
    "neus = [neu0, neu1, neu2, neu3]\n",
    "vs_pre, Is_pre, spikes_pre, vs_post, Is_post, spikes_post, t = simulate_several(neus, neu_post, time=time, ap_scale=-100)"
   ]
  },
  {
   "cell_type": "code",
   "execution_count": null,
   "metadata": {},
   "outputs": [],
   "source": [
    "show_stats_many(vs_pre, Is_pre, spikes_pre, t)"
   ]
  },
  {
   "cell_type": "code",
   "execution_count": null,
   "metadata": {},
   "outputs": [],
   "source": [
    "show_stats(vs_post, Is_post, spikes_post, t)"
   ]
  },
  {
   "cell_type": "code",
   "execution_count": null,
   "metadata": {},
   "outputs": [],
   "source": [
    "# BCM\n",
    "\n",
    "class BCM:\n",
    "    def __init__(self, neu1, neu2, k=.1):\n",
    "        self.w = 0\n",
    "        self.neu1 = neu1\n",
    "        self.neu2 = neu2\n",
    "        self.k = k\n",
    "        self.theta = neu2\n",
    "\n",
    "    def change(self):\n",
    "        dw = self.neu2 * (self.neu2 - self.theta) * self.neu1 -self.k * self.ww"
   ]
  },
  {
   "cell_type": "code",
   "execution_count": null,
   "metadata": {},
   "outputs": [],
   "source": [
    "def poisson(max=1, time=60, freq=1):\n",
    "    aim = freq/time\n",
    "    num = np.random.poisson(lam=aim, size=time)\n",
    "    for i in range(len(num)):\n",
    "        yield num[i]"
   ]
  },
  {
   "cell_type": "code",
   "execution_count": null,
   "metadata": {},
   "outputs": [],
   "source": [
    "temp = []\n",
    "for i in poisson():\n",
    "    temp.append(i)\n",
    "    print(i)\n",
    "\n",
    "plt.plot(temp)"
   ]
  },
  {
   "cell_type": "code",
   "execution_count": null,
   "metadata": {},
   "outputs": [],
   "source": []
  }
 ],
 "metadata": {
  "kernelspec": {
   "display_name": "Python 3",
   "language": "python",
   "name": "python3"
  },
  "language_info": {
   "codemirror_mode": {
    "name": "ipython",
    "version": 3
   },
   "file_extension": ".py",
   "mimetype": "text/x-python",
   "name": "python",
   "nbconvert_exporter": "python",
   "pygments_lexer": "ipython3",
   "version": "3.11.3"
  }
 },
 "nbformat": 4,
 "nbformat_minor": 2
}
